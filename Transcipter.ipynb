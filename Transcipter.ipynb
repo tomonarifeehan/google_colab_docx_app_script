{
  "nbformat": 4,
  "nbformat_minor": 0,
  "metadata": {
    "colab": {
      "provenance": []
    },
    "kernelspec": {
      "name": "python3",
      "display_name": "Python 3"
    },
    "language_info": {
      "name": "python"
    }
  },
  "cells": [
    {
      "cell_type": "code",
      "source": [
        "pip install python-docx"
      ],
      "metadata": {
        "colab": {
          "base_uri": "https://localhost:8080/"
        },
        "id": "9KVEC92-QGPc",
        "outputId": "12a6570a-6eb5-4942-c49c-bad6ec4f75a9"
      },
      "execution_count": 142,
      "outputs": [
        {
          "output_type": "stream",
          "name": "stdout",
          "text": [
            "Requirement already satisfied: python-docx in /usr/local/lib/python3.10/dist-packages (1.1.0)\n",
            "Requirement already satisfied: lxml>=3.1.0 in /usr/local/lib/python3.10/dist-packages (from python-docx) (4.9.4)\n",
            "Requirement already satisfied: typing-extensions in /usr/local/lib/python3.10/dist-packages (from python-docx) (4.10.0)\n"
          ]
        }
      ]
    },
    {
      "cell_type": "code",
      "source": [
        "from docx import Document\n",
        "from docx.shared import Pt\n",
        "import re\n",
        "\n",
        "# Replace 'input-file.docx' with the actual file name\n",
        "file_path = ('/content/input-file.docx')\n",
        "\n",
        "def read_docx(file_path):\n",
        "    doc = Document(file_path)\n",
        "    content = []\n",
        "\n",
        "    for paragraph in doc.paragraphs:\n",
        "        content.append(paragraph.text)\n",
        "\n",
        "    return '\\n'.join(content)\n",
        "\n",
        "# text_content = read_docx(file_path)\n",
        "# print(text_content)\n",
        "\n",
        "def detect_all_speakers(docx_text_content):\n",
        "\n",
        "    # Define a regular expression pattern to match lines that represent a potential speaker\n",
        "    speaker_pattern = re.compile(r'^([A-Za-z0-9\\$\\s]+)$', re.MULTILINE)\n",
        "\n",
        "    # Find all matches in the document text\n",
        "    potential_speakers = re.findall(speaker_pattern, docx_text_content)\n",
        "\n",
        "    return set(potential_speakers)\n",
        "\n",
        "def prompt_user_for_speaker_confirmation(potential_speakers):\n",
        "    confirmed_speakers = []\n",
        "\n",
        "    print(\"Potential speakers detected:\")\n",
        "    for speaker in potential_speakers:\n",
        "        user_input = input(f\"Is '{speaker}' a speaker? (y/n): \").lower()\n",
        "        if user_input == 'y':\n",
        "            confirmed_speakers.append(speaker)\n",
        "\n",
        "    return confirmed_speakers\n",
        "\n",
        "def format_text(docx_text_content, confirmed_speakers):\n",
        "\n",
        "    # Split the text into lines\n",
        "    lines = docx_text_content.split('\\n')\n",
        "    formatted_lines = []\n",
        "    current_speaker = None\n",
        "\n",
        "    for line in lines:\n",
        "\n",
        "        # Check if the line matches the confirmed speaker pattern\n",
        "        if line.strip() in confirmed_speakers:\n",
        "\n",
        "            # If a confirmed speaker is detected, format the text and update the current speaker\n",
        "            current_speaker = line.strip()\n",
        "            formatted_lines.append(f\"\\n{current_speaker}\")\n",
        "\n",
        "        else:\n",
        "            # If no confirmed speaker is detected, append the line as it is\n",
        "            formatted_lines.append(line)\n",
        "\n",
        "    # Join the formatted lines to get the final result\n",
        "    formatted_text = '\\n'.join(formatted_lines)\n",
        "\n",
        "    return formatted_text\n",
        "\n",
        "def create_formatted_docx(output_file_path, formatted_text):\n",
        "    doc = Document()\n",
        "    style = doc.styles['Normal']\n",
        "\n",
        "    # Set font / size\n",
        "    font = style.font\n",
        "    font.name = 'Barlow'\n",
        "    font.size = Pt(11)\n",
        "\n",
        "    # Set space_after\n",
        "    style.paragraph_format.space_after = Pt(0)\n",
        "\n",
        "    # Add paragraphs to the document\n",
        "    for line in formatted_text.split('\\n'):\n",
        "\n",
        "        # Bold speakers\n",
        "        if line.strip() in confirmed_speakers:\n",
        "          paragraph = doc.add_paragraph()\n",
        "          paragraph.add_run(line).bold = True\n",
        "\n",
        "        # Non-speaker lines\n",
        "        else:\n",
        "          paragraph = doc.add_paragraph(line)\n",
        "\n",
        "    # Save the document\n",
        "    doc.save(output_file_path)\n",
        "\n",
        "# Read Document\n",
        "docx_text_content = read_docx(file_path)\n",
        "\n",
        "# Detect all potential speakers in the document\n",
        "potential_speakers = detect_all_speakers(docx_text_content)\n",
        "\n",
        "# Print the list of detected speakers\n",
        "print(\"Detected potential speakers:\")\n",
        "for speaker in potential_speakers:\n",
        "    print(f\"- {speaker}\")\n",
        "\n",
        "# Prompt the user for confirmation\n",
        "confirmed_speakers = prompt_user_for_speaker_confirmation(potential_speakers)\n",
        "\n",
        "# Format the text based on confirmed speakers\n",
        "formatted_text = format_text(docx_text_content, confirmed_speakers)\n",
        "\n",
        "# Replace with the desired output file name\n",
        "output_file_path = 'formatted_output.docx'\n",
        "create_formatted_docx(output_file_path, formatted_text)\n",
        "\n",
        "print(f\"The formatted text has been saved to {'/content/'}.\")\n"
      ],
      "metadata": {
        "id": "hkUyJPfGQtlz",
        "colab": {
          "base_uri": "https://localhost:8080/"
        },
        "outputId": "d4229c56-e48f-4ae7-eff5-4e8b2def44fb"
      },
      "execution_count": 145,
      "outputs": [
        {
          "output_type": "stream",
          "name": "stdout",
          "text": [
            "Detected potential speakers:\n",
            "- Aylek$\n",
            "- Boat\n",
            "- Trippie Redd\n",
            "- Chris\n",
            "- Adam22\n",
            "- Little Sister\n",
            "- Jacob\n",
            "Potential speakers detected:\n",
            "Is 'Aylek$' a speaker? (y/n): y\n",
            "Is 'Boat' a speaker? (y/n): y\n",
            "Is 'Trippie Redd' a speaker? (y/n): y\n",
            "Is 'Chris' a speaker? (y/n): y\n",
            "Is 'Adam22' a speaker? (y/n): y\n",
            "Is 'Little Sister' a speaker? (y/n): y\n",
            "Is 'Jacob' a speaker? (y/n): y\n",
            "The formatted text has been saved to /content/.\n"
          ]
        }
      ]
    },
    {
      "cell_type": "code",
      "source": [],
      "metadata": {
        "id": "eu_M3wMzfO7q"
      },
      "execution_count": 145,
      "outputs": []
    }
  ]
}